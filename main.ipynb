{
 "cells": [
  {
   "cell_type": "code",
   "execution_count": 10,
   "metadata": {},
   "outputs": [],
   "source": [
    "from tkinter import *\n",
    "from tkinter import ttk\n",
    "import pandas as pd\n",
    "import config\n",
    "\n",
    "root = Tk()\n",
    "root.title('Cash CRM')\n",
    "root.iconbitmap()\n",
    "root.geometry(\"1000x500\")\n",
    "\n",
    "#add style\n",
    "style = ttk.Style()\n",
    "\n",
    "#pick a theme\n",
    "style.theme_use('default')\n",
    "\n",
    "#configure colours\n",
    "style.configure(\"Treeview\",\n",
    "        background=\"#D3D3D3\",\n",
    "        foreground=\"black\",\n",
    "        rowheight=25,\n",
    "        fieldbackground=\"#D3D3D3\")\n",
    "\n",
    "#Change selected colour\n",
    "style.map('Treeview',\n",
    "    background=[('selected', \"#347083\")])\n",
    "\n",
    "#Create a treeview Frame\n",
    "tree_frame = Frame(root)\n",
    "tree_frame.pack(pady=10)\n",
    "\n",
    "#create a treeview scrollbar\n",
    "tree_scroll = Scrollbar(tree_frame)\n",
    "tree_scroll.pack(side=RIGHT, fill=Y)\n",
    "\n",
    "#Create the treeview\n",
    "my_tree = ttk.Treeview(tree_frame, yscrollcommand=tree_scroll.set, selectmode=\"extended\")\n",
    "my_tree.pack()\n",
    "\n",
    "#configure scrollbar\n",
    "tree_scroll.config(command=my_tree.yview)\n",
    "\n"
   ]
  },
  {
   "cell_type": "code",
   "execution_count": 11,
   "metadata": {},
   "outputs": [],
   "source": [
    "\n",
    "from sqlalchemy import create_engine\n",
    "from sqlalchemy import text\n",
    "engine = create_engine(config.mysql_url + config.user + \":\" + config.password + \"@\" + config.host_name + \"/\" + config.schema)\n",
    "\n",
    "\n",
    "animals = pd.read_sql('SELECT * FROM simple_crm.animals', con=engine)\n",
    "active_table = animals"
   ]
  },
  {
   "cell_type": "code",
   "execution_count": 12,
   "metadata": {},
   "outputs": [],
   "source": [
    "my_tree['columns'] = list(active_table.columns)\n",
    "\n",
    "#format columns\n",
    "my_tree.column(\"#0\", width=0, stretch=NO)\n",
    "for column in my_tree['columns']:\n",
    "    my_tree.column(column, anchor=CENTER, width=140)\n",
    "\n",
    "#name headers\n",
    "my_tree.heading(\"#0\", text=\"\", anchor=W)\n",
    "for column in my_tree['columns']:\n",
    "    my_tree.heading(column, text=column, anchor=CENTER)"
   ]
  },
  {
   "cell_type": "code",
   "execution_count": 13,
   "metadata": {},
   "outputs": [
    {
     "data": {
      "text/plain": [
       "{}"
      ]
     },
     "execution_count": 13,
     "metadata": {},
     "output_type": "execute_result"
    }
   ],
   "source": [
    "#create striped row tags\n",
    "my_tree.tag_configure('oddrow', background=\"white\")\n",
    "my_tree.tag_configure(\"evenrow\", background=\"lightblue\")"
   ]
  },
  {
   "cell_type": "code",
   "execution_count": 14,
   "metadata": {},
   "outputs": [],
   "source": [
    "#add our data to the screen\n",
    "global count\n",
    "count = 0\n",
    "\n",
    "column_count = active_table.shape[1]\n",
    "\n",
    "for record in active_table.values:\n",
    "    if count % 2 == 0:\n",
    "        my_tree.insert(parent='', index='end', iid=count, text='', values=(list(record[0:column_count])), tags=('evenrow',))\n",
    "    else:\n",
    "        my_tree.insert(parent='', index='end', iid=count, text='', values=(list(record[0:column_count])), tags=('oddrow',))\n",
    "    #increment counter\n",
    "    count += 1"
   ]
  },
  {
   "cell_type": "code",
   "execution_count": 15,
   "metadata": {},
   "outputs": [],
   "source": [
    "#add buttons and record entry boxes\n",
    "button_frame = LabelFrame(root, text=\"Commands\")\n",
    "button_frame.pack(fill='x', expand='yes', padx=20)\n",
    "\n",
    "data_frame = LabelFrame(root, text=\"Record\")\n",
    "data_frame.pack(fill=\"x\", expand='yes', padx=20)"
   ]
  },
  {
   "cell_type": "code",
   "execution_count": 16,
   "metadata": {},
   "outputs": [
    {
     "data": {
      "text/plain": [
       "'140375244633728onDouble'"
      ]
     },
     "execution_count": 16,
     "metadata": {},
     "output_type": "execute_result"
    }
   ],
   "source": [
    "#building boxes dynamically\n",
    "\n",
    "from functions.record_selection import selectRecord, getRecord\n",
    "\n",
    "bxs = []\n",
    "for b in my_tree['columns']:\n",
    "    b=Entry(data_frame)\n",
    "    #i.pack()\n",
    "    bxs.append(b)\n",
    "\n",
    "lbls = []  \n",
    "for l in my_tree['columns']:\n",
    "    l=Label(data_frame, text=l)\n",
    "    #i.pack()\n",
    "    lbls.append(l)\n",
    "        \n",
    "updts = []   \n",
    "\n",
    "# double click to select. This is bad as it's using global variables in a functions scope   \n",
    "def onDouble(selected):\n",
    "    selectRecord(my_tree,lbls,bxs)\n",
    "\n",
    "\n",
    "my_tree.bind(\"<Double-1>\", onDouble)"
   ]
  },
  {
   "cell_type": "code",
   "execution_count": 17,
   "metadata": {},
   "outputs": [],
   "source": [
    "#adding buttons\n",
    "\n",
    "select_record_button = Button(button_frame, text=\"Select Record\", command= lambda: selectRecord(my_tree,lbls,bxs))\n",
    "select_record_button.grid(row=0, column=1, padx=10, pady=10)\n",
    "\n",
    "select_record_button = Button(button_frame, text=\"Update Record\", command= lambda: getRecord(bxs, updts))\n",
    "select_record_button.grid(row=0, column=2, padx=10, pady=10)"
   ]
  },
  {
   "cell_type": "code",
   "execution_count": 18,
   "metadata": {},
   "outputs": [
    {
     "name": "stdout",
     "output_type": "stream",
     "text": [
      "\n",
      "\n",
      "\n",
      "\n",
      "3\n",
      "penguin\n",
      "bird\n",
      "None\n",
      "5\n",
      "mammal\n",
      "mammal\n",
      "None\n"
     ]
    }
   ],
   "source": [
    "root.mainloop()"
   ]
  }
 ],
 "metadata": {
  "kernelspec": {
   "display_name": "Python 3.9.12 ('simple_crm')",
   "language": "python",
   "name": "python3"
  },
  "language_info": {
   "codemirror_mode": {
    "name": "ipython",
    "version": 3
   },
   "file_extension": ".py",
   "mimetype": "text/x-python",
   "name": "python",
   "nbconvert_exporter": "python",
   "pygments_lexer": "ipython3",
   "version": "3.9.12"
  },
  "orig_nbformat": 4,
  "vscode": {
   "interpreter": {
    "hash": "6bced5a812988da60b25035bffc8ebad77087ea421f94fcbc7f468ac20cfa0ef"
   }
  }
 },
 "nbformat": 4,
 "nbformat_minor": 2
}
