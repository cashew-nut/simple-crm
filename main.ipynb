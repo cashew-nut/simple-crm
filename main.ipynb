{
 "cells": [
  {
   "cell_type": "code",
   "execution_count": 191,
   "metadata": {},
   "outputs": [],
   "source": [
    "from tkinter import *\n",
    "from tkinter import ttk\n",
    "import pandas as pd\n",
    "import config\n",
    "\n",
    "root = Tk()\n",
    "root.title('Cash CRM')\n",
    "root.iconbitmap()\n",
    "root.geometry(\"1000x500\")\n",
    "\n",
    "#add style\n",
    "style = ttk.Style()\n",
    "\n",
    "#pick a them\n",
    "style.theme_use('default')\n",
    "\n",
    "#configure colours\n",
    "style.configure(\"Treeview\",\n",
    "        background=\"#D3D3D3\",\n",
    "        foreground=\"black\",\n",
    "        rowheight=25,\n",
    "        fieldbackground=\"#D3D3D3\")\n",
    "\n",
    "#Change selected colour\n",
    "style.map('Treeview',\n",
    "    background=[('selected', \"#347083\")])\n",
    "\n",
    "#Create a treeview Frame\n",
    "tree_frame = Frame(root)\n",
    "tree_frame.pack(pady=10)\n",
    "\n",
    "#create a treeview scrollbar\n",
    "tree_scroll = Scrollbar(tree_frame)\n",
    "tree_scroll.pack(side=RIGHT, fill=Y)\n",
    "\n",
    "#Create the treeview\n",
    "my_tree = ttk.Treeview(tree_frame, yscrollcommand=tree_scroll.set, selectmode=\"extended\")\n",
    "my_tree.pack()\n",
    "\n",
    "#configure scrollbar\n",
    "tree_scroll.config(command=my_tree.yview)\n",
    "\n"
   ]
  },
  {
   "cell_type": "code",
   "execution_count": 192,
   "metadata": {},
   "outputs": [],
   "source": [
    "import sqlalchemy\n",
    "import pymysql\n",
    "from sqlalchemy import create_engine\n",
    "from sqlalchemy import text\n",
    "engine = create_engine(config.mysql_url + config.user + \":\" + config.password + \"@\" + config.host_name + \"/\" + config.schema)\n",
    "\n",
    "\n",
    "animals = pd.read_sql('SELECT * FROM simple_crm.animals', con=engine)\n",
    "active_table = animals"
   ]
  },
  {
   "cell_type": "code",
   "execution_count": 193,
   "metadata": {},
   "outputs": [],
   "source": [
    "my_tree['columns'] = list(active_table.columns)\n",
    "\n",
    "#format columns\n",
    "my_tree.column(\"#0\", width=0, stretch=NO)\n",
    "for column in my_tree['columns']:\n",
    "    my_tree.column(column, anchor=CENTER, width=140)\n",
    "\n",
    "#name headers\n",
    "my_tree.heading(\"#0\", text=\"\", anchor=W)\n",
    "for column in my_tree['columns']:\n",
    "    my_tree.heading(column, text=column, anchor=CENTER)"
   ]
  },
  {
   "cell_type": "code",
   "execution_count": 194,
   "metadata": {},
   "outputs": [
    {
     "data": {
      "text/plain": [
       "{}"
      ]
     },
     "execution_count": 194,
     "metadata": {},
     "output_type": "execute_result"
    }
   ],
   "source": [
    "#create striped row tags\n",
    "my_tree.tag_configure('oddrow', background=\"white\")\n",
    "my_tree.tag_configure(\"evenrow\", background=\"lightblue\")"
   ]
  },
  {
   "cell_type": "code",
   "execution_count": 195,
   "metadata": {},
   "outputs": [],
   "source": [
    "#add our data to the screen\n",
    "global count\n",
    "count = 0\n",
    "\n",
    "column_count = active_table.shape[1]\n",
    "\n",
    "for record in active_table.values:\n",
    "    if count % 2 == 0:\n",
    "        my_tree.insert(parent='', index='end', iid=count, text='', values=(list(record[0:column_count])), tags=('evenrow',))\n",
    "    else:\n",
    "        my_tree.insert(parent='', index='end', iid=count, text='', values=(list(record[0:column_count])), tags=('oddrow',))\n",
    "    #increment counter\n",
    "    count += 1"
   ]
  },
  {
   "cell_type": "code",
   "execution_count": 196,
   "metadata": {},
   "outputs": [],
   "source": [
    "#add buttons and record entry boxes\n",
    "\n",
    "button_frame = LabelFrame(root, text=\"Commands\")\n",
    "button_frame.pack(fill='x', expand='yes', padx=20)\n",
    "\n",
    "data_frame = LabelFrame(root, text=\"Record\")\n",
    "data_frame.pack(fill=\"x\", expand='yes', padx=20)"
   ]
  },
  {
   "cell_type": "code",
   "execution_count": 197,
   "metadata": {},
   "outputs": [],
   "source": [
    "def select_record():\n",
    "     #grab record number\n",
    "\n",
    "    selected = my_tree.focus()\n",
    "    # #grab record values\n",
    "    values = my_tree.item(selected, 'values')\n",
    "\n",
    "    n = 0\n",
    "\n",
    "    for item in my_tree['columns']:\n",
    "        lbl = Label(data_frame, text=item)\n",
    "        lbl.grid(row=n, column=1, padx=10, pady=10)\n",
    "        ent = Entry(data_frame)\n",
    "        ent.grid(row=n, column=2, padx=10, pady=10)\n",
    "        ent.delete(0,END)\n",
    "        ent.insert(0,values[n])\n",
    "        n += 1\n",
    "    \n",
    "    #test"
   ]
  },
  {
   "cell_type": "code",
   "execution_count": 198,
   "metadata": {},
   "outputs": [],
   "source": [
    "select_record_button = Button(button_frame, text=\"Select Record\", command=select_record)\n",
    "select_record_button.grid(row=0, column=1, padx=10, pady=10)"
   ]
  },
  {
   "cell_type": "code",
   "execution_count": 199,
   "metadata": {},
   "outputs": [],
   "source": [
    "root.mainloop()\n"
   ]
  }
 ],
 "metadata": {
  "kernelspec": {
   "display_name": "Python 3.9.12 ('simple_crm')",
   "language": "python",
   "name": "python3"
  },
  "language_info": {
   "codemirror_mode": {
    "name": "ipython",
    "version": 3
   },
   "file_extension": ".py",
   "mimetype": "text/x-python",
   "name": "python",
   "nbconvert_exporter": "python",
   "pygments_lexer": "ipython3",
   "version": "3.9.12"
  },
  "orig_nbformat": 4,
  "vscode": {
   "interpreter": {
    "hash": "6bced5a812988da60b25035bffc8ebad77087ea421f94fcbc7f468ac20cfa0ef"
   }
  }
 },
 "nbformat": 4,
 "nbformat_minor": 2
}
